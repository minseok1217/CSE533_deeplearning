{
 "cells": [
  {
   "cell_type": "code",
   "execution_count": 2,
   "metadata": {},
   "outputs": [
    {
     "name": "stdout",
     "output_type": "stream",
     "text": [
      "/data/2_data_server/cv-07/link_dl\n"
     ]
    }
   ],
   "source": [
    "import torch\n",
    "import torch.nn as nn\n",
    "import torch.nn.functional as F\n",
    "\n",
    "import os\n",
    "from pathlib import Path\n",
    "import torch\n",
    "import wandb\n",
    "import matplotlib.pyplot as plt\n",
    "\n",
    "from torch import nn\n",
    "from tqdm import tqdm\n",
    "\n",
    "from torch.utils.data import DataLoader, random_split\n",
    "from torchvision import datasets\n",
    "from torchvision.transforms import ToTensor, Normalize\n",
    "from torchvision import transforms as T \n",
    "\n",
    "\n",
    "# BASE_PATH = str(Path(__file__).resolve().parent.parent.parent)  # BASE_PATH: /Users/yhhan/git/link_dl\n",
    "BASE_PATH = str(Path(os.getcwd()).parent.parent)  \n",
    "print(BASE_PATH)\n",
    "\n",
    "import sys\n",
    "\n",
    "sys.path.append(BASE_PATH)\n",
    "\n",
    "from _01_code._99_common_utils.utils import get_num_cpu_cores, is_linux, is_windows\n"
   ]
  },
  {
   "cell_type": "code",
   "execution_count": 3,
   "metadata": {},
   "outputs": [],
   "source": [
    "def calculate_mean_std(train_loader):\n",
    "    channels_sum, channels_squared_sum, num_batches = 0, 0, 0\n",
    "    \n",
    "    for data, _ in tqdm(train_loader, desc='Calculating mean and std'):\n",
    "        # Mean over batch, height and width, but not over the channels\n",
    "        channels_sum += torch.mean(data, dim=[0,2,3])\n",
    "        channels_squared_sum += torch.mean(data**2, dim=[0,2,3])\n",
    "        num_batches += 1\n",
    "    \n",
    "    mean = channels_sum / num_batches\n",
    "    std = (channels_squared_sum / num_batches - mean ** 2) ** 0.5\n",
    "    \n",
    "    return mean, std"
   ]
  },
  {
   "cell_type": "code",
   "execution_count": 4,
   "metadata": {},
   "outputs": [],
   "source": [
    "def get_fashion_mnist_data():\n",
    "    data_path = os.path.join(BASE_PATH, \"_00_data\", \"j_fashion_mnist\")\n",
    "\n",
    "    # Load dataset with basic transform\n",
    "    f_mnist_train = datasets.FashionMNIST(\n",
    "        data_path, \n",
    "        train=True, \n",
    "        download=True, \n",
    "        transform=T.ToTensor()\n",
    "    )\n",
    "    \n",
    "    f_mnist_test = datasets.FashionMNIST(\n",
    "        data_path,\n",
    "        train=False,\n",
    "        download=True,\n",
    "        transform=T.ToTensor()\n",
    "    )\n",
    "\n",
    "    # Calculate mean and std\n",
    "    temp_loader = DataLoader(\n",
    "        dataset=f_mnist_train,\n",
    "        batch_size=1000,\n",
    "        shuffle=False,\n",
    "        num_workers=get_num_cpu_cores() if is_linux() or is_windows() else 0\n",
    "    )\n",
    "    \n",
    "    mean, std = calculate_mean_std(temp_loader)\n",
    "    print(f\"Dataset mean: {mean.item():.4f}\")\n",
    "    print(f\"Dataset std: {std.item():.4f}\")\n",
    "    \n",
    "    # Split training data into train and validation sets\n",
    "    f_mnist_train, f_mnist_validation = random_split(\n",
    "        f_mnist_train,\n",
    "        [55_000, 5_000]\n",
    "    )\n",
    "\n",
    "    print(\"Number of training samples:\", len(f_mnist_train))\n",
    "    print(\"Number of validation samples:\", len(f_mnist_validation))\n",
    "    print(\"Number of test samples:\", len(f_mnist_test))\n",
    "    \n",
    "    # Set number of workers based on OS\n",
    "    num_workers = get_num_cpu_cores() if is_linux() or is_windows() else 0\n",
    "    # num_workers = min(4, get_num_cpu_cores())  # worker 수 제한\n",
    "    print(\"Number of Data Loading Workers:\", num_workers)\n",
    "\n",
    "    # Create data loaders\n",
    "    train_loader = DataLoader(\n",
    "        dataset=f_mnist_train,\n",
    "        batch_size=wandb.config.batch_size,\n",
    "        shuffle=True,\n",
    "        pin_memory=True,\n",
    "        num_workers=num_workers\n",
    "    )\n",
    "    \n",
    "    validation_loader = DataLoader(\n",
    "        dataset=f_mnist_validation,\n",
    "        batch_size=wandb.config.batch_size,\n",
    "        pin_memory=True,\n",
    "        num_workers=num_workers\n",
    "    )\n",
    "\n",
    "    test_loader = DataLoader(\n",
    "        dataset=f_mnist_test,\n",
    "        batch_size=wandb.config.batch_size,\n",
    "        pin_memory=True,\n",
    "        num_workers=num_workers\n",
    "    )\n",
    "\n",
    "    # Define transforms\n",
    "    mnist_transforms = nn.Sequential(\n",
    "        T.Resize(224),  # Resize for ResNet\n",
    "        T.ConvertImageDtype(torch.float),\n",
    "        T.Normalize(mean=[mean.item()], std=[std.item()])\n",
    "    )\n",
    "\n",
    "    return train_loader, validation_loader, test_loader, mnist_transforms"
   ]
  },
  {
   "cell_type": "code",
   "execution_count": null,
   "metadata": {},
   "outputs": [],
   "source": [
    "def train_model(model, train_loader, validation_loader, mnist_transforms, epochs=50, device='cuda'):\n",
    "   model = model.to(device)\n",
    "   criterion = nn.CrossEntropyLoss()\n",
    "   optimizer = torch.optim.Adam(model.parameters(), lr=0.001)\n",
    "   scheduler = torch.optim.lr_scheduler.CosineAnnealingLR(optimizer, T_max=epochs)\n",
    "   \n",
    "   for epoch in range(epochs):\n",
    "       # Training\n",
    "       model.train()\n",
    "       train_loss = 0\n",
    "       train_correct = 0\n",
    "       train_total = 0\n",
    "       \n",
    "       train_pbar = tqdm(train_loader, desc=f'Epoch [{epoch+1}/{epochs}] Training',\n",
    "                        bar_format='{desc}: {percentage:3.0f}%|{bar}| {n_fmt}/{total_fmt} [{elapsed}<{remaining}, {rate_fmt}{postfix}]')\n",
    "       \n",
    "       for inputs, labels in train_pbar:\n",
    "           inputs = mnist_transforms(inputs).to(device)\n",
    "           labels = labels.to(device)\n",
    "           \n",
    "           optimizer.zero_grad()\n",
    "           outputs = model(inputs)\n",
    "           loss = criterion(outputs, labels)\n",
    "           loss.backward()\n",
    "           optimizer.step()\n",
    "           \n",
    "           train_loss += loss.item()\n",
    "           _, predicted = torch.max(outputs.data, 1)\n",
    "           train_total += labels.size(0)\n",
    "           train_correct += (predicted == labels).sum().item()\n",
    "           \n",
    "           train_pbar.set_postfix({\n",
    "               'loss': f'{train_loss/train_total*labels.size(0):.3f}',\n",
    "               'acc': f'{100.*train_correct/train_total:.2f}%',\n",
    "               'lr': f'{scheduler.get_last_lr()[0]:.6f}'\n",
    "           })\n",
    "           \n",
    "       train_loss = train_loss / len(train_loader)\n",
    "       train_acc = 100. * train_correct / train_total\n",
    "       \n",
    "       # Validation\n",
    "       model.eval()\n",
    "       val_loss = 0\n",
    "       val_correct = 0\n",
    "       val_total = 0\n",
    "       \n",
    "       val_pbar = tqdm(validation_loader, desc=f'Epoch [{epoch+1}/{epochs}] Validation',\n",
    "                      bar_format='{desc}: {percentage:3.0f}%|{bar}| {n_fmt}/{total_fmt} [{elapsed}<{remaining}, {rate_fmt}{postfix}]')\n",
    "       \n",
    "       with torch.no_grad():\n",
    "           for inputs, labels in val_pbar:\n",
    "               inputs = mnist_transforms(inputs).to(device)\n",
    "               labels = labels.to(device)\n",
    "               \n",
    "               outputs = model(inputs)\n",
    "               loss = criterion(outputs, labels)\n",
    "               \n",
    "               val_loss += loss.item()\n",
    "               _, predicted = torch.max(outputs.data, 1)\n",
    "               val_total += labels.size(0)\n",
    "               val_correct += (predicted == labels).sum().item()\n",
    "               \n",
    "               val_pbar.set_postfix({\n",
    "                   'loss': f'{val_loss/val_total*labels.size(0):.3f}',\n",
    "                   'acc': f'{100.*val_correct/val_total:.2f}%'\n",
    "               })\n",
    "       \n",
    "       val_loss = val_loss / len(validation_loader)\n",
    "       val_acc = 100. * val_correct / val_total\n",
    "       \n",
    "       print(f\"Epoch [{epoch+1}/{epochs}] Results: \"\n",
    "             f\"Train Loss: {train_loss:.3f} | Train Acc: {train_acc:.2f}% \"\n",
    "             f\"Val Loss: {val_loss:.3f} | Val Acc: {val_acc:.2f}% \"\n",
    "             f\"--------------------\")\n",
    "       \n",
    "       scheduler.step()\n",
    "\n",
    "       if val_acc > 94:\n",
    "           return model\n",
    "       \n",
    "   return model"
   ]
  },
  {
   "cell_type": "code",
   "execution_count": 17,
   "metadata": {},
   "outputs": [],
   "source": [
    "import torchvision.models as models\n",
    "\n",
    "def get_model():\n",
    "    # 사전 학습된 ResNet18 로드\n",
    "    model = models.resnet18(weights='IMAGENET1K_V1')\n",
    "    \n",
    "    # 입력 채널을 1로 수정 (Fashion MNIST는 흑백)\n",
    "    model.conv1 = nn.Conv2d(1, 64, kernel_size=7, stride=2, padding=3, bias=False)\n",
    "    \n",
    "    # 출력 레이어를 10개 클래스로 수정\n",
    "    num_ftrs = model.fc.in_features\n",
    "    model.fc = nn.Linear(num_ftrs, 10)\n",
    "    \n",
    "    return model\n",
    "\n",
    "# 이미지 크기 조정을 위한 transform 수정\n",
    "mnist_transforms = nn.Sequential(\n",
    "    T.Resize(224),  # ResNet 입력 크기\n",
    "    T.ConvertImageDtype(torch.float),\n",
    "    T.Normalize(mean=[0.485], std=[0.229])  # 단일 채널용 정규화\n",
    ")"
   ]
  },
  {
   "cell_type": "markdown",
   "metadata": {},
   "source": [
    "# 문제 1, 2\n",
    "Dataset mean: 0.2860\n",
    "Dataset std: 0.3530"
   ]
  },
  {
   "cell_type": "code",
   "execution_count": 18,
   "metadata": {},
   "outputs": [
    {
     "name": "stdout",
     "output_type": "stream",
     "text": [
      "cuda\n"
     ]
    },
    {
     "data": {
      "text/html": [
       "Finishing last run (ID:eyoc1rcw) before initializing another..."
      ],
      "text/plain": [
       "<IPython.core.display.HTML object>"
      ]
     },
     "metadata": {},
     "output_type": "display_data"
    },
    {
     "data": {
      "text/html": [
       " View run <strong style=\"color:#cdcd00\">resnet18</strong> at: <a href='https://wandb.ai/ping5432121-korea-university-of-technology-and-education/fashion-mnist-resnet/runs/eyoc1rcw' target=\"_blank\">https://wandb.ai/ping5432121-korea-university-of-technology-and-education/fashion-mnist-resnet/runs/eyoc1rcw</a><br/> View project at: <a href='https://wandb.ai/ping5432121-korea-university-of-technology-and-education/fashion-mnist-resnet' target=\"_blank\">https://wandb.ai/ping5432121-korea-university-of-technology-and-education/fashion-mnist-resnet</a><br/>Synced 5 W&B file(s), 0 media file(s), 0 artifact file(s) and 0 other file(s)"
      ],
      "text/plain": [
       "<IPython.core.display.HTML object>"
      ]
     },
     "metadata": {},
     "output_type": "display_data"
    },
    {
     "data": {
      "text/html": [
       "Find logs at: <code>./wandb/run-20241123_010420-eyoc1rcw/logs</code>"
      ],
      "text/plain": [
       "<IPython.core.display.HTML object>"
      ]
     },
     "metadata": {},
     "output_type": "display_data"
    },
    {
     "data": {
      "text/html": [
       "Successfully finished last run (ID:eyoc1rcw). Initializing new run:<br/>"
      ],
      "text/plain": [
       "<IPython.core.display.HTML object>"
      ]
     },
     "metadata": {},
     "output_type": "display_data"
    },
    {
     "data": {
      "text/html": [
       "Tracking run with wandb version 0.18.5"
      ],
      "text/plain": [
       "<IPython.core.display.HTML object>"
      ]
     },
     "metadata": {},
     "output_type": "display_data"
    },
    {
     "data": {
      "text/html": [
       "Run data is saved locally in <code>/data/2_data_server/cv-07/link_dl/_02_homeworks/homework_3/wandb/run-20241123_010521-91mrq6oc</code>"
      ],
      "text/plain": [
       "<IPython.core.display.HTML object>"
      ]
     },
     "metadata": {},
     "output_type": "display_data"
    },
    {
     "data": {
      "text/html": [
       "Syncing run <strong><a href='https://wandb.ai/ping5432121-korea-university-of-technology-and-education/fashion-mnist-resnet/runs/91mrq6oc' target=\"_blank\">resnet18</a></strong> to <a href='https://wandb.ai/ping5432121-korea-university-of-technology-and-education/fashion-mnist-resnet' target=\"_blank\">Weights & Biases</a> (<a href='https://wandb.me/run' target=\"_blank\">docs</a>)<br/>"
      ],
      "text/plain": [
       "<IPython.core.display.HTML object>"
      ]
     },
     "metadata": {},
     "output_type": "display_data"
    },
    {
     "data": {
      "text/html": [
       " View project at <a href='https://wandb.ai/ping5432121-korea-university-of-technology-and-education/fashion-mnist-resnet' target=\"_blank\">https://wandb.ai/ping5432121-korea-university-of-technology-and-education/fashion-mnist-resnet</a>"
      ],
      "text/plain": [
       "<IPython.core.display.HTML object>"
      ]
     },
     "metadata": {},
     "output_type": "display_data"
    },
    {
     "data": {
      "text/html": [
       " View run at <a href='https://wandb.ai/ping5432121-korea-university-of-technology-and-education/fashion-mnist-resnet/runs/91mrq6oc' target=\"_blank\">https://wandb.ai/ping5432121-korea-university-of-technology-and-education/fashion-mnist-resnet/runs/91mrq6oc</a>"
      ],
      "text/plain": [
       "<IPython.core.display.HTML object>"
      ]
     },
     "metadata": {},
     "output_type": "display_data"
    },
    {
     "name": "stderr",
     "output_type": "stream",
     "text": [
      "Calculating mean and std: 100%|██████████| 60/60 [00:03<00:00, 17.78it/s]\n"
     ]
    },
    {
     "name": "stdout",
     "output_type": "stream",
     "text": [
      "Dataset mean: 0.2860\n",
      "Dataset std: 0.3530\n",
      "Number of training samples: 55000\n",
      "Number of validation samples: 5000\n",
      "Number of test samples: 10000\n",
      "Number of Data Loading Workers: 64\n",
      "Training batches: 1719\n",
      "Validation batches: 157\n"
     ]
    },
    {
     "name": "stderr",
     "output_type": "stream",
     "text": [
      "Epoch [1/10] Training: 100%|██████████| 1719/1719 [01:07<00:00, 25.56it/s, loss=0.262, acc=87.49%, lr=0.001000]\n",
      "Epoch [1/10] Validation: 100%|██████████| 157/157 [00:05<00:00, 30.43it/s, loss=0.062, acc=90.62%]\n"
     ]
    },
    {
     "name": "stdout",
     "output_type": "stream",
     "text": [
      "Epoch [1/10] Results: Train Loss: 0.349 | Train Acc: 87.49% Val Loss: 0.247 | Val Acc: 90.62% --------------------\n"
     ]
    },
    {
     "name": "stderr",
     "output_type": "stream",
     "text": [
      "Epoch [2/10] Training: 100%|██████████| 1719/1719 [01:07<00:00, 25.29it/s, loss=0.174, acc=91.71%, lr=0.000976]\n",
      "Epoch [2/10] Validation: 100%|██████████| 157/157 [00:05<00:00, 30.46it/s, loss=0.058, acc=91.60%]\n"
     ]
    },
    {
     "name": "stdout",
     "output_type": "stream",
     "text": [
      "Epoch [2/10] Results: Train Loss: 0.232 | Train Acc: 91.71% Val Loss: 0.233 | Val Acc: 91.60% --------------------\n"
     ]
    },
    {
     "name": "stderr",
     "output_type": "stream",
     "text": [
      "Epoch [3/10] Training: 100%|██████████| 1719/1719 [01:07<00:00, 25.54it/s, loss=0.140, acc=93.29%, lr=0.000905]\n",
      "Epoch [3/10] Validation: 100%|██████████| 157/157 [00:05<00:00, 30.61it/s, loss=0.046, acc=93.26%]\n"
     ]
    },
    {
     "name": "stdout",
     "output_type": "stream",
     "text": [
      "Epoch [3/10] Results: Train Loss: 0.187 | Train Acc: 93.29% Val Loss: 0.184 | Val Acc: 93.26% --------------------\n"
     ]
    },
    {
     "name": "stderr",
     "output_type": "stream",
     "text": [
      "Epoch [4/10] Training: 100%|██████████| 1719/1719 [01:07<00:00, 25.57it/s, loss=0.110, acc=94.61%, lr=0.000794]\n",
      "Epoch [4/10] Validation: 100%|██████████| 157/157 [00:05<00:00, 30.91it/s, loss=0.046, acc=93.06%]\n"
     ]
    },
    {
     "name": "stdout",
     "output_type": "stream",
     "text": [
      "Epoch [4/10] Results: Train Loss: 0.146 | Train Acc: 94.61% Val Loss: 0.185 | Val Acc: 93.06% --------------------\n"
     ]
    },
    {
     "name": "stderr",
     "output_type": "stream",
     "text": [
      "Epoch [5/10] Training: 100%|██████████| 1719/1719 [01:07<00:00, 25.54it/s, loss=0.079, acc=96.22%, lr=0.000655]\n",
      "Epoch [5/10] Validation: 100%|██████████| 157/157 [00:05<00:00, 30.73it/s, loss=0.048, acc=93.50%]\n"
     ]
    },
    {
     "name": "stdout",
     "output_type": "stream",
     "text": [
      "Epoch [5/10] Results: Train Loss: 0.105 | Train Acc: 96.22% Val Loss: 0.191 | Val Acc: 93.50% --------------------\n"
     ]
    },
    {
     "name": "stderr",
     "output_type": "stream",
     "text": [
      "Epoch [6/10] Training: 100%|██████████| 1719/1719 [01:07<00:00, 25.57it/s, loss=0.044, acc=97.89%, lr=0.000500]\n",
      "Epoch [6/10] Validation: 100%|██████████| 157/157 [00:05<00:00, 30.50it/s, loss=0.047, acc=93.98%]\n"
     ]
    },
    {
     "name": "stdout",
     "output_type": "stream",
     "text": [
      "Epoch [6/10] Results: Train Loss: 0.058 | Train Acc: 97.89% Val Loss: 0.187 | Val Acc: 93.98% --------------------\n"
     ]
    },
    {
     "name": "stderr",
     "output_type": "stream",
     "text": [
      "Epoch [7/10] Training: 100%|██████████| 1719/1719 [01:07<00:00, 25.58it/s, loss=0.019, acc=99.15%, lr=0.000345]\n",
      "Epoch [7/10] Validation: 100%|██████████| 157/157 [00:05<00:00, 30.39it/s, loss=0.060, acc=93.82%]\n"
     ]
    },
    {
     "name": "stdout",
     "output_type": "stream",
     "text": [
      "Epoch [7/10] Results: Train Loss: 0.025 | Train Acc: 99.15% Val Loss: 0.239 | Val Acc: 93.82% --------------------\n"
     ]
    },
    {
     "name": "stderr",
     "output_type": "stream",
     "text": [
      "Epoch [8/10] Training: 100%|██████████| 1719/1719 [01:07<00:00, 25.57it/s, loss=0.006, acc=99.74%, lr=0.000206]\n",
      "Epoch [8/10] Validation: 100%|██████████| 157/157 [00:05<00:00, 30.85it/s, loss=0.064, acc=94.18%]\n"
     ]
    },
    {
     "name": "stdout",
     "output_type": "stream",
     "text": [
      "Epoch [8/10] Results: Train Loss: 0.009 | Train Acc: 99.74% Val Loss: 0.255 | Val Acc: 94.18% --------------------\n"
     ]
    },
    {
     "name": "stderr",
     "output_type": "stream",
     "text": [
      "Epoch [9/10] Training: 100%|██████████| 1719/1719 [01:07<00:00, 25.50it/s, loss=0.002, acc=99.96%, lr=0.000095]\n",
      "Epoch [9/10] Validation: 100%|██████████| 157/157 [00:05<00:00, 30.56it/s, loss=0.067, acc=94.50%]\n"
     ]
    },
    {
     "name": "stdout",
     "output_type": "stream",
     "text": [
      "Epoch [9/10] Results: Train Loss: 0.002 | Train Acc: 99.96% Val Loss: 0.267 | Val Acc: 94.50% --------------------\n"
     ]
    },
    {
     "name": "stderr",
     "output_type": "stream",
     "text": [
      "Epoch [10/10] Training: 100%|██████████| 1719/1719 [01:07<00:00, 25.47it/s, loss=0.001, acc=99.99%, lr=0.000024]\n",
      "Epoch [10/10] Validation: 100%|██████████| 157/157 [00:05<00:00, 30.79it/s, loss=0.068, acc=94.66%]\n"
     ]
    },
    {
     "name": "stdout",
     "output_type": "stream",
     "text": [
      "Epoch [10/10] Results: Train Loss: 0.001 | Train Acc: 99.99% Val Loss: 0.271 | Val Acc: 94.66% --------------------\n"
     ]
    },
    {
     "data": {
      "text/html": [
       " View run <strong style=\"color:#cdcd00\">resnet18</strong> at: <a href='https://wandb.ai/ping5432121-korea-university-of-technology-and-education/fashion-mnist-resnet/runs/91mrq6oc' target=\"_blank\">https://wandb.ai/ping5432121-korea-university-of-technology-and-education/fashion-mnist-resnet/runs/91mrq6oc</a><br/> View project at: <a href='https://wandb.ai/ping5432121-korea-university-of-technology-and-education/fashion-mnist-resnet' target=\"_blank\">https://wandb.ai/ping5432121-korea-university-of-technology-and-education/fashion-mnist-resnet</a><br/>Synced 5 W&B file(s), 0 media file(s), 0 artifact file(s) and 0 other file(s)"
      ],
      "text/plain": [
       "<IPython.core.display.HTML object>"
      ]
     },
     "metadata": {},
     "output_type": "display_data"
    },
    {
     "data": {
      "text/html": [
       "Find logs at: <code>./wandb/run-20241123_010521-91mrq6oc/logs</code>"
      ],
      "text/plain": [
       "<IPython.core.display.HTML object>"
      ]
     },
     "metadata": {},
     "output_type": "display_data"
    }
   ],
   "source": [
    "device = torch.device('cuda' if torch.cuda.is_available() else 'cpu')\n",
    "print(device)\n",
    "# Initialize wandb\n",
    "config={\n",
    "        \"learning_rate\": 0.001,\n",
    "        \"batch_size\": 32,\n",
    "        \"epochs\": 8\n",
    "}\n",
    "# import os\n",
    "# os.environ['WANDB_START_METHOD'] = 'thread'\n",
    "# wandb.login()\n",
    "\n",
    "wandb.init(\n",
    "    project=\"fashion-mnist-resnet\",\n",
    "    name=\"resnet18\",\n",
    "    config=config\n",
    ")\n",
    "\n",
    "model = get_model()\n",
    "train_loader, validation_loader, test_loader, mnist_transforms = get_fashion_mnist_data()\n",
    "print(\"Training batches:\", len(train_loader))\n",
    "print(\"Validation batches:\", len(validation_loader))\n",
    "\n",
    "trained_model = train_model(\n",
    "    model=model,\n",
    "    train_loader=train_loader,\n",
    "    validation_loader=validation_loader,\n",
    "    mnist_transforms=mnist_transforms,\n",
    "    epochs=wandb.config.epochs,\n",
    "    device=device\n",
    ")\n",
    "wandb.finish()"
   ]
  },
  {
   "cell_type": "markdown",
   "metadata": {},
   "source": [
    "## Basic Parameters\n",
    "- Learning Rate: 0.001\n",
    "- Batch Size: 32\n",
    "- Epochs: 50\n",
    "\n",
    "## Optimization\n",
    "- Optimizer: Adam\n",
    "- Learning Rate Scheduler: CosineAnnealingLR\n",
    "- Weight Decay: Not used\n",
    "- Early Stopping: At validation accuracy ≥ 94%\n",
    "\n",
    "## Data Processing\n",
    "- Normalization: \n",
    " - Mean: 0.2860\n",
    " - Std: 0.3530\n",
    "- Input Size: 224x224 (ResNet requirement)"
   ]
  },
  {
   "cell_type": "markdown",
   "metadata": {},
   "source": [
    "# 문제 3"
   ]
  },
  {
   "cell_type": "code",
   "execution_count": 20,
   "metadata": {},
   "outputs": [],
   "source": [
    "# Dataset mean: 0.2860\n",
    "# Dataset std: 0.3530\n",
    "\n",
    "def get_fashion_mnist_test_data():\n",
    "    data_path = os.path.join(BASE_PATH, \"_00_data\", \"j_fashion_mnist\")\n",
    "\n",
    "    f_mnist_test_images = datasets.FashionMNIST(data_path, train=False, download=True)\n",
    "    f_mnist_test = datasets.FashionMNIST(data_path, train=False, download=True, transform=T.ToTensor())\n",
    "\n",
    "    print(\"Num Test Samples: \", len(f_mnist_test))\n",
    "    print(\"Sample Shape: \", f_mnist_test[0][0].shape)  # torch.Size([1, 28, 28])\n",
    "\n",
    "    test_data_loader = DataLoader(dataset=f_mnist_test, batch_size=len(f_mnist_test))\n",
    "\n",
    "    f_mnist_transforms = nn.Sequential(\n",
    "        T.ConvertImageDtype(torch.float),\n",
    "        T.Normalize(mean=0.2860, std=0.3530),\n",
    "    )\n",
    "\n",
    "    return f_mnist_test_images, test_data_loader, f_mnist_transforms"
   ]
  },
  {
   "cell_type": "code",
   "execution_count": 21,
   "metadata": {},
   "outputs": [],
   "source": [
    "torch.save(trained_model.state_dict(), \"resnet18_fashion_mnist.pth\")"
   ]
  },
  {
   "cell_type": "code",
   "execution_count": 27,
   "metadata": {},
   "outputs": [],
   "source": [
    "def get_fashion_mnist_test_data():\n",
    "    data_path = os.path.join(BASE_PATH, \"_00_data\", \"j_fashion_mnist\")\n",
    "    f_mnist_test_images = datasets.FashionMNIST(data_path, train=False, download=True)\n",
    "    f_mnist_test = datasets.FashionMNIST(data_path, train=False, download=True, transform=T.ToTensor())\n",
    "    \n",
    "    # 배치 크기를 32로 변경\n",
    "    test_data_loader = DataLoader(\n",
    "        dataset=f_mnist_test, \n",
    "        batch_size=32,  # 전체 데이터셋 대신 32로 설정\n",
    "        num_workers=4\n",
    "    )\n",
    "    \n",
    "    f_mnist_transforms = nn.Sequential(\n",
    "        T.Resize(224),  # ResNet 입력 크기에 맞게 조정\n",
    "        T.ConvertImageDtype(torch.float),\n",
    "        T.Normalize(mean=0.2860, std=0.3530),\n",
    "    )\n",
    "    return f_mnist_test_images, test_data_loader, f_mnist_transforms"
   ]
  },
  {
   "cell_type": "code",
   "execution_count": 28,
   "metadata": {},
   "outputs": [],
   "source": [
    "def test_model(model, test_loader, mnist_transforms, device='cuda'):\n",
    "   model.eval()\n",
    "   test_correct = 0\n",
    "   test_total = 0\n",
    "   all_predictions = []\n",
    "   \n",
    "   test_pbar = tqdm(test_loader, desc='Testing',\n",
    "                   bar_format='{desc}: {percentage:3.0f}%|{bar}| {n_fmt}/{total_fmt} [{elapsed}<{remaining}, {rate_fmt}{postfix}]')\n",
    "   \n",
    "   with torch.no_grad():\n",
    "       for inputs, labels in test_pbar:\n",
    "           inputs = mnist_transforms(inputs).to(device)\n",
    "           labels = labels.to(device)\n",
    "           \n",
    "           outputs = model(inputs)\n",
    "           _, predicted = torch.max(outputs.data, 1)\n",
    "           test_total += labels.size(0)\n",
    "           test_correct += (predicted == labels).sum().item()\n",
    "           all_predictions.extend(predicted.cpu().numpy())\n",
    "           \n",
    "           test_pbar.set_postfix({\n",
    "               'acc': f'{100.*test_correct/test_total:.2f}%'\n",
    "           })\n",
    "   \n",
    "   test_acc = 100. * test_correct / test_total\n",
    "   print(f\"\\nTest Accuracy: {test_acc:.2f}%\")\n",
    "   \n",
    "   return test_acc, all_predictions"
   ]
  },
  {
   "cell_type": "code",
   "execution_count": 29,
   "metadata": {},
   "outputs": [
    {
     "name": "stderr",
     "output_type": "stream",
     "text": [
      "Testing: 100%|██████████| 313/313 [00:04<00:00, 66.75it/s, acc=94.06%]"
     ]
    },
    {
     "name": "stdout",
     "output_type": "stream",
     "text": [
      "\n",
      "Test Accuracy: 94.06%\n"
     ]
    },
    {
     "name": "stderr",
     "output_type": "stream",
     "text": [
      "\n"
     ]
    }
   ],
   "source": [
    "f_mnist_test_images, test_loader, test_transforms = get_fashion_mnist_test_data()\n",
    "test_accuracy, predictions = test_model(trained_model, test_loader, mnist_transforms, device)"
   ]
  },
  {
   "cell_type": "markdown",
   "metadata": {},
   "source": [
    "# 문제 4"
   ]
  },
  {
   "cell_type": "code",
   "execution_count": 31,
   "metadata": {},
   "outputs": [
    {
     "data": {
      "image/png": "[encoded data removed]",
      "text/plain": [
       "<Figure size 1500x800 with 10 Axes>"
      ]
     },
     "metadata": {},
     "output_type": "display_data"
    }
   ],
   "source": [
    "def visualize_test_predictions(model, test_images, test_loader, transforms, num_samples=10, device='cuda'):\n",
    "   # Fashion MNIST 클래스 레이블\n",
    "   classes = ['T-shirt/top', 'Trouser', 'Pullover', 'Dress', 'Coat',\n",
    "              'Sandal', 'Shirt', 'Sneaker', 'Bag', 'Ankle boot']\n",
    "   \n",
    "   # 랜덤 인덱스 선택\n",
    "   import random\n",
    "   total_samples = len(test_images)\n",
    "   indices = random.sample(range(total_samples), num_samples)\n",
    "   \n",
    "   model.eval()\n",
    "   plt.figure(figsize=(15, 8))\n",
    "   \n",
    "   with torch.no_grad():\n",
    "       for idx, sample_idx in enumerate(indices):\n",
    "           # 이미지와 레이블 가져오기\n",
    "           image, label = test_images[sample_idx]\n",
    "           \n",
    "           # 이미지 전처리 및 예측\n",
    "           image_tensor = transforms(T.ToTensor()(image).unsqueeze(0)).to(device)\n",
    "           output = model(image_tensor)\n",
    "           _, predicted = torch.max(output.data, 1)\n",
    "           \n",
    "           # 시각화\n",
    "           plt.subplot(2, 5, idx + 1)\n",
    "           plt.imshow(image, cmap='gray')\n",
    "           plt.title(f'True: {classes[label]}\\nPred: {classes[predicted.item()]}')\n",
    "           plt.axis('off')\n",
    "   \n",
    "   plt.tight_layout()\n",
    "   plt.show()\n",
    "\n",
    "# 사용 예시\n",
    "visualize_test_predictions(trained_model, f_mnist_test_images, test_loader, mnist_transforms)"
   ]
  },
  {
   "cell_type": "code",
   "execution_count": 33,
   "metadata": {},
   "outputs": [
    {
     "data": {
      "text/plain": [
       "==========================================================================================\n",
       "Layer (type:depth-idx)                   Output Shape              Param #\n",
       "==========================================================================================\n",
       "ResNet                                   [32, 10]                  --\n",
       "├─Conv2d: 1-1                            [32, 64, 112, 112]        3,136\n",
       "├─BatchNorm2d: 1-2                       [32, 64, 112, 112]        128\n",
       "├─ReLU: 1-3                              [32, 64, 112, 112]        --\n",
       "├─MaxPool2d: 1-4                         [32, 64, 56, 56]          --\n",
       "├─Sequential: 1-5                        [32, 64, 56, 56]          --\n",
       "│    └─BasicBlock: 2-1                   [32, 64, 56, 56]          --\n",
       "│    │    └─Conv2d: 3-1                  [32, 64, 56, 56]          36,864\n",
       "│    │    └─BatchNorm2d: 3-2             [32, 64, 56, 56]          128\n",
       "│    │    └─ReLU: 3-3                    [32, 64, 56, 56]          --\n",
       "│    │    └─Conv2d: 3-4                  [32, 64, 56, 56]          36,864\n",
       "│    │    └─BatchNorm2d: 3-5             [32, 64, 56, 56]          128\n",
       "│    │    └─ReLU: 3-6                    [32, 64, 56, 56]          --\n",
       "│    └─BasicBlock: 2-2                   [32, 64, 56, 56]          --\n",
       "│    │    └─Conv2d: 3-7                  [32, 64, 56, 56]          36,864\n",
       "│    │    └─BatchNorm2d: 3-8             [32, 64, 56, 56]          128\n",
       "│    │    └─ReLU: 3-9                    [32, 64, 56, 56]          --\n",
       "│    │    └─Conv2d: 3-10                 [32, 64, 56, 56]          36,864\n",
       "│    │    └─BatchNorm2d: 3-11            [32, 64, 56, 56]          128\n",
       "│    │    └─ReLU: 3-12                   [32, 64, 56, 56]          --\n",
       "├─Sequential: 1-6                        [32, 128, 28, 28]         --\n",
       "│    └─BasicBlock: 2-3                   [32, 128, 28, 28]         --\n",
       "│    │    └─Conv2d: 3-13                 [32, 128, 28, 28]         73,728\n",
       "│    │    └─BatchNorm2d: 3-14            [32, 128, 28, 28]         256\n",
       "│    │    └─ReLU: 3-15                   [32, 128, 28, 28]         --\n",
       "│    │    └─Conv2d: 3-16                 [32, 128, 28, 28]         147,456\n",
       "│    │    └─BatchNorm2d: 3-17            [32, 128, 28, 28]         256\n",
       "│    │    └─Sequential: 3-18             [32, 128, 28, 28]         8,448\n",
       "│    │    └─ReLU: 3-19                   [32, 128, 28, 28]         --\n",
       "│    └─BasicBlock: 2-4                   [32, 128, 28, 28]         --\n",
       "│    │    └─Conv2d: 3-20                 [32, 128, 28, 28]         147,456\n",
       "│    │    └─BatchNorm2d: 3-21            [32, 128, 28, 28]         256\n",
       "│    │    └─ReLU: 3-22                   [32, 128, 28, 28]         --\n",
       "│    │    └─Conv2d: 3-23                 [32, 128, 28, 28]         147,456\n",
       "│    │    └─BatchNorm2d: 3-24            [32, 128, 28, 28]         256\n",
       "│    │    └─ReLU: 3-25                   [32, 128, 28, 28]         --\n",
       "├─Sequential: 1-7                        [32, 256, 14, 14]         --\n",
       "│    └─BasicBlock: 2-5                   [32, 256, 14, 14]         --\n",
       "│    │    └─Conv2d: 3-26                 [32, 256, 14, 14]         294,912\n",
       "│    │    └─BatchNorm2d: 3-27            [32, 256, 14, 14]         512\n",
       "│    │    └─ReLU: 3-28                   [32, 256, 14, 14]         --\n",
       "│    │    └─Conv2d: 3-29                 [32, 256, 14, 14]         589,824\n",
       "│    │    └─BatchNorm2d: 3-30            [32, 256, 14, 14]         512\n",
       "│    │    └─Sequential: 3-31             [32, 256, 14, 14]         33,280\n",
       "│    │    └─ReLU: 3-32                   [32, 256, 14, 14]         --\n",
       "│    └─BasicBlock: 2-6                   [32, 256, 14, 14]         --\n",
       "│    │    └─Conv2d: 3-33                 [32, 256, 14, 14]         589,824\n",
       "│    │    └─BatchNorm2d: 3-34            [32, 256, 14, 14]         512\n",
       "│    │    └─ReLU: 3-35                   [32, 256, 14, 14]         --\n",
       "│    │    └─Conv2d: 3-36                 [32, 256, 14, 14]         589,824\n",
       "│    │    └─BatchNorm2d: 3-37            [32, 256, 14, 14]         512\n",
       "│    │    └─ReLU: 3-38                   [32, 256, 14, 14]         --\n",
       "├─Sequential: 1-8                        [32, 512, 7, 7]           --\n",
       "│    └─BasicBlock: 2-7                   [32, 512, 7, 7]           --\n",
       "│    │    └─Conv2d: 3-39                 [32, 512, 7, 7]           1,179,648\n",
       "│    │    └─BatchNorm2d: 3-40            [32, 512, 7, 7]           1,024\n",
       "│    │    └─ReLU: 3-41                   [32, 512, 7, 7]           --\n",
       "│    │    └─Conv2d: 3-42                 [32, 512, 7, 7]           2,359,296\n",
       "│    │    └─BatchNorm2d: 3-43            [32, 512, 7, 7]           1,024\n",
       "│    │    └─Sequential: 3-44             [32, 512, 7, 7]           132,096\n",
       "│    │    └─ReLU: 3-45                   [32, 512, 7, 7]           --\n",
       "│    └─BasicBlock: 2-8                   [32, 512, 7, 7]           --\n",
       "│    │    └─Conv2d: 3-46                 [32, 512, 7, 7]           2,359,296\n",
       "│    │    └─BatchNorm2d: 3-47            [32, 512, 7, 7]           1,024\n",
       "│    │    └─ReLU: 3-48                   [32, 512, 7, 7]           --\n",
       "│    │    └─Conv2d: 3-49                 [32, 512, 7, 7]           2,359,296\n",
       "│    │    └─BatchNorm2d: 3-50            [32, 512, 7, 7]           1,024\n",
       "│    │    └─ReLU: 3-51                   [32, 512, 7, 7]           --\n",
       "├─AdaptiveAvgPool2d: 1-9                 [32, 512, 1, 1]           --\n",
       "├─Linear: 1-10                           [32, 10]                  5,130\n",
       "==========================================================================================\n",
       "Total params: 11,175,370\n",
       "Trainable params: 11,175,370\n",
       "Non-trainable params: 0\n",
       "Total mult-adds (G): 55.52\n",
       "==========================================================================================\n",
       "Input size (MB): 6.42\n",
       "Forward/backward pass size (MB): 1271.66\n",
       "Params size (MB): 44.70\n",
       "Estimated Total Size (MB): 1322.79\n",
       "=========================================================================================="
      ]
     },
     "execution_count": 33,
     "metadata": {},
     "output_type": "execute_result"
    }
   ],
   "source": [
    "from torchinfo import summary\n",
    "\n",
    "summary(trained_model, input_size=(32, 1, 224, 224))"
   ]
  }
 ],
 "metadata": {
  "kernelspec": {
   "display_name": "link_dl",
   "language": "python",
   "name": "python3"
  },
  "language_info": {
   "codemirror_mode": {
    "name": "ipython",
    "version": 3
   },
   "file_extension": ".py",
   "mimetype": "text/x-python",
   "name": "python",
   "nbconvert_exporter": "python",
   "pygments_lexer": "ipython3",
   "version": "3.10.14"
  }
 },
 "nbformat": 4,
 "nbformat_minor": 2
}
